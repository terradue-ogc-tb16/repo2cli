{
 "cells": [
  {
   "cell_type": "code",
   "execution_count": 19,
   "metadata": {},
   "outputs": [],
   "source": [
    "import os\n",
    "import yaml\n",
    "import sys\n",
    "sys.path.append('.')\n",
    "from nbsignature import *\n",
    "from cwl import *"
   ]
  },
  {
   "cell_type": "code",
   "execution_count": 14,
   "metadata": {},
   "outputs": [
    {
     "name": "stdout",
     "output_type": "stream",
     "text": [
      "The autoreload extension is already loaded. To reload it, use:\n",
      "  %reload_ext autoreload\n"
     ]
    }
   ],
   "source": [
    "%load_ext autoreload\n",
    "%autoreload 2"
   ]
  },
  {
   "cell_type": "code",
   "execution_count": 17,
   "metadata": {},
   "outputs": [],
   "source": [
    "signature = get_signature_notebook('test1.ipynb')"
   ]
  },
  {
   "cell_type": "code",
   "execution_count": 18,
   "metadata": {},
   "outputs": [
    {
     "data": {
      "text/plain": [
       "{'_parameters': {'input_reference_scatter': {'abstract': 'This service takes as input a Sentinel-3 SLSTR Level 2 (SL_2_LST____) product on DESCENDING pass',\n",
       "   'identifier': 'input_reference_scatter',\n",
       "   'max_occurs': '16',\n",
       "   'scatter': 'True',\n",
       "   'stac:collection': 'post_event',\n",
       "   'stac:href': '/workspace/slstr/catalog.json',\n",
       "   'title': 'Sentinel-3 SLSTR Level-2 (SL_2_LST____ descending pass)',\n",
       "   'type': 'Directory[]',\n",
       "   'value': 'https://catalog.terradue.com/sentinel3/search?format=json&amp;uid=S3B_SL_2_LST____20200613T070835_20200613T071135_20200613T085802_0179_040_063_2880_LN2_O_NR_004,https://catalog.terradue.com/sentinel3/search?format=json&amp;uid=S3B_SL_2_LST____20200613T070835_20200613T071135_20200613T085802_0179_040_063_2880_LN2_O_NR_004'},\n",
       "  'tiling_level': {'abstract': 'Tiling level',\n",
       "   'identifier': 'tiling_level',\n",
       "   'max_occurs': '1',\n",
       "   'min_occurs': '0',\n",
       "   'title': 'Tiling level',\n",
       "   'value': '5'}},\n",
       " '_requirements': {'ramMin': 16000},\n",
       " '_service': {'abstract': 'Normalized burn ratio for burned area intensity assessment',\n",
       "  'identifier': 'nbr',\n",
       "  'title': 'Normalized burn ratio'}}"
      ]
     },
     "execution_count": 18,
     "metadata": {},
     "output_type": "execute_result"
    }
   ],
   "source": [
    "signature"
   ]
  },
  {
   "cell_type": "code",
   "execution_count": 21,
   "metadata": {},
   "outputs": [
    {
     "name": "stdout",
     "output_type": "stream",
     "text": [
      "$graph:\n",
      "- baseCommand: my_exe\n",
      "  class: CommandLineTool\n",
      "  id: clt\n",
      "  inputs:\n",
      "    inp1:\n",
      "      inputBinding:\n",
      "        position: 1\n",
      "        prefix: --input_reference_scatter\n",
      "      type: Directory\n",
      "    inp2:\n",
      "      inputBinding:\n",
      "        position: 2\n",
      "        prefix: --tiling_level\n",
      "      type: string\n",
      "  outputs:\n",
      "    results:\n",
      "      outputBinding:\n",
      "        glob: .\n",
      "      type: Any\n",
      "  requirements:\n",
      "    EnvVarRequirement:\n",
      "      envDef:\n",
      "        PATH: aaa/bin:/opt/anaconda/envs/env_s3/conda-otb/bin:/opt/anaconda/envs/env_s3/snap/bin:/opt/anaconda/envs/notebook/bin:/opt/anaconda/envs/env_s3/bin:/usr/share/java/maven/bin:/opt/anaconda/bin:/opt/anaconda/condabin:/opt/anaconda/envs/notebook/bin:/opt/anaconda/bin:/usr/lib64/qt-3.3/bin:/usr/share/java/maven/bin:/usr/local/bin:/usr/bin:/usr/local/sbin:/usr/sbin:/home/fbrito/.local/bin:/home/fbrito/bin\n",
      "        PREFIX: aaa\n",
      "    ResourceRequirement:\n",
      "      ramMin: 16000\n",
      "  stderr: std.err\n",
      "  stdout: std.out\n",
      "- class: Workflow\n",
      "  doc: Normalized burn ratio for burned area intensity assessment\n",
      "  id: nbr\n",
      "  inputs:\n",
      "    input_reference_scatter:\n",
      "      doc: This service takes as input a Sentinel-3 SLSTR Level 2 (SL_2_LST____) product\n",
      "        on DESCENDING pass\n",
      "      label: Sentinel-3 SLSTR Level-2 (SL_2_LST____ descending pass)\n",
      "      stac:collection: post_event\n",
      "      type: Directory[]\n",
      "    tiling_level:\n",
      "      doc: Tiling level\n",
      "      label: Tiling level\n",
      "      type: string?\n",
      "  label: Normalized burn ratio\n",
      "  outputs:\n",
      "  - id: wf_outputs\n",
      "    outputSource:\n",
      "    - node_1/results\n",
      "    type:\n",
      "      items: Directory\n",
      "      type: array\n",
      "  requirements:\n",
      "  - class: ScatterFeatureRequirement\n",
      "  steps:\n",
      "    node_1:\n",
      "      in:\n",
      "        inp1: input_reference_scatter\n",
      "        inp2: tiling_level\n",
      "      out:\n",
      "      - results\n",
      "      run: '#clt'\n",
      "      scatter: inp1\n",
      "      scatterMethod: dotproduct\n",
      "$namespaces:\n",
      "  stac: http://www.me.net/stac/cwl/extension\n",
      "cwlVersion: v1.0\n"
     ]
    }
   ],
   "source": [
    "os.environ['PREFIX'] = 'aaa'\n",
    "\n",
    "yaml.dump(cwl(signature, 'my_exe'),\n",
    "          sys.stdout,\n",
    "          default_flow_style=False) "
   ]
  },
  {
   "cell_type": "code",
   "execution_count": null,
   "metadata": {},
   "outputs": [],
   "source": []
  }
 ],
 "metadata": {
  "kernelspec": {
   "display_name": "Python [conda env:env_s3]",
   "language": "python",
   "name": "conda-env-env_s3-py"
  },
  "language_info": {
   "codemirror_mode": {
    "name": "ipython",
    "version": 3
   },
   "file_extension": ".py",
   "mimetype": "text/x-python",
   "name": "python",
   "nbconvert_exporter": "python",
   "pygments_lexer": "ipython3",
   "version": "3.5.6"
  }
 },
 "nbformat": 4,
 "nbformat_minor": 4
}
