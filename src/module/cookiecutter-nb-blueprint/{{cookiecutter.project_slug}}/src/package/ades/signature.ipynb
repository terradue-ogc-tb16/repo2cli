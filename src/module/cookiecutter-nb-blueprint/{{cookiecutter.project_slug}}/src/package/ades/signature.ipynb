{
 "cells": [
  {
   "cell_type": "code",
   "execution_count": 27,
   "metadata": {},
   "outputs": [],
   "source": [
    "import os\n",
    "import yaml\n",
    "import sys\n",
    "sys.path.append('.')\n",
    "from nbsignature import *\n",
    "#from cwl import *\n",
    "from clt import CommandLineTool\n",
    "from wf import Workflow\n",
    "from aninput import AnInput"
   ]
  },
  {
   "cell_type": "code",
   "execution_count": 2,
   "metadata": {},
   "outputs": [],
   "source": [
    "%load_ext autoreload\n",
    "%autoreload 2"
   ]
  },
  {
   "cell_type": "code",
   "execution_count": 9,
   "metadata": {},
   "outputs": [],
   "source": [
    "signature = get_signature_notebook('/workspace/burned-area/repo/burned-area/src/package/ades/test1.ipynb')"
   ]
  },
  {
   "cell_type": "code",
   "execution_count": 10,
   "metadata": {},
   "outputs": [
    {
     "data": {
      "text/plain": [
       "{'label': 'Normalized burn ratio',\n",
       " 'doc': 'Normalized burn ratio for burned area intensity assessment',\n",
       " 'id': 'nbr'}"
      ]
     },
     "execution_count": 10,
     "metadata": {},
     "output_type": "execute_result"
    }
   ],
   "source": [
    "signature['_workflow']"
   ]
  },
  {
   "cell_type": "code",
   "execution_count": 11,
   "metadata": {},
   "outputs": [
    {
     "data": {
      "text/plain": [
       "{'ramMin': 16000}"
      ]
     },
     "execution_count": 11,
     "metadata": {},
     "output_type": "execute_result"
    }
   ],
   "source": [
    "signature['_requirements']"
   ]
  },
  {
   "cell_type": "code",
   "execution_count": 12,
   "metadata": {},
   "outputs": [
    {
     "data": {
      "text/plain": [
       "{'input_reference_scatter': {'doc': 'This service takes as input a Sentinel-3 SLSTR Level 2 (SL_2_LST____) product on DESCENDING pass',\n",
       "  'id': 'input_reference_scatter',\n",
       "  'max_occurs': '16',\n",
       "  'label': 'Sentinel-3 SLSTR Level-2 (SL_2_LST____ descending pass)',\n",
       "  'stac:collection': 'post_event',\n",
       "  'stac:href': '/workspace/slstr/catalog.json',\n",
       "  'value': 'https://catalog.terradue.com/sentinel3/search?format=json&amp;uid=S3B_SL_2_LST____20200613T070835_20200613T071135_20200613T085802_0179_040_063_2880_LN2_O_NR_004,https://catalog.terradue.com/sentinel3/search?format=json&amp;uid=S3B_SL_2_LST____20200613T070835_20200613T071135_20200613T085802_0179_040_063_2880_LN2_O_NR_004',\n",
       "  'type': 'Directory',\n",
       "  'scatter': 'True'},\n",
       " 'tiling_level': {'id': 'tiling_level',\n",
       "  'label': 'Tiling level',\n",
       "  'doc': 'Tiling level',\n",
       "  'type': 'string',\n",
       "  'value': '5'},\n",
       " 'false_color_1': {'id': 'false_color_1',\n",
       "  'label': 'False Color 1 (S5, S3, S2)',\n",
       "  'doc': 'False Color RGB composite using bands S5, S3 and S2',\n",
       "  'value': 'Yes',\n",
       "  'symbols': ['Yes', 'No'],\n",
       "  'type': 'enum'}}"
      ]
     },
     "execution_count": 12,
     "metadata": {},
     "output_type": "execute_result"
    }
   ],
   "source": [
    "signature['_parameters']"
   ]
  },
  {
   "cell_type": "code",
   "execution_count": 13,
   "metadata": {},
   "outputs": [],
   "source": [
    "os.environ['PREFIX'] = 'aaa'\n",
    "executable = 'my_exe'"
   ]
  },
  {
   "cell_type": "code",
   "execution_count": null,
   "metadata": {},
   "outputs": [],
   "source": []
  },
  {
   "cell_type": "code",
   "execution_count": 38,
   "metadata": {},
   "outputs": [],
   "source": [
    "clt_inputs = dict()\n",
    "wf_inputs = dict()\n",
    "step_inputs = dict()\n",
    "\n",
    "for index, key in enumerate(list(signature['_parameters'].keys())):\n",
    "\n",
    "    an_input = AnInput(signature, key, index)\n",
    "    \n",
    "    clt_inputs['inp{}'.format(index+1)] = an_input.get_clt_input()\n",
    "    wf_inputs[key] = an_input.get_wf_input()\n",
    "    step_inputs['inp{}'.format(index+1)] = key"
   ]
  },
  {
   "cell_type": "code",
   "execution_count": 39,
   "metadata": {},
   "outputs": [],
   "source": [
    "wf = Workflow(signature)\n",
    "\n",
    "wf.set_inputs(wf_inputs)\n",
    "wf.set_steps(step_inputs)"
   ]
  },
  {
   "cell_type": "code",
   "execution_count": 40,
   "metadata": {},
   "outputs": [],
   "source": [
    "clt = CommandLineTool(signature, executable, docker=None)\n",
    "\n",
    "clt.set_inputs(clt_inputs)"
   ]
  },
  {
   "cell_type": "code",
   "execution_count": 41,
   "metadata": {},
   "outputs": [],
   "source": [
    "cwl = dict()\n",
    "\n",
    "cwl['cwlVersion'] = 'v1.0'\n",
    "\n",
    "cwl['$graph'] = [clt.to_dict(), wf.to_dict()]"
   ]
  },
  {
   "cell_type": "code",
   "execution_count": 42,
   "metadata": {},
   "outputs": [
    {
     "name": "stdout",
     "output_type": "stream",
     "text": [
      "$graph:\n",
      "- baseCommand: my_exe\n",
      "  class: CommandLineTool\n",
      "  id: clt\n",
      "  inputs:\n",
      "    inp1:\n",
      "      inputBinding:\n",
      "        position: 1\n",
      "        prefix: --input_reference_scatter\n",
      "      type: Directory\n",
      "    inp2:\n",
      "      inputBinding:\n",
      "        position: 2\n",
      "        prefix: --tiling_level\n",
      "      type: string\n",
      "    inp3:\n",
      "      inputBinding:\n",
      "        position: 3\n",
      "        prefix: --false_color_1\n",
      "      type: enum\n",
      "  outputs:\n",
      "    results:\n",
      "      outputBinding:\n",
      "        glob: .\n",
      "      type: Directory\n",
      "  requirements:\n",
      "    EnvVarRequirement:\n",
      "      envDef:\n",
      "        PATH: aaa/bin:/opt/anaconda/bin:/opt/anaconda/envs/notebook/bin:/opt/anaconda/bin:/usr/share/java/maven/bin:/opt/anaconda/bin:/opt/anaconda/condabin:/opt/anaconda/envs/notebook/bin:/opt/anaconda/bin:/usr/lib64/qt-3.3/bin:/usr/share/java/maven/bin:/usr/local/bin:/usr/bin:/usr/local/sbin:/usr/sbin:/home/fbrito/.local/bin:/home/fbrito/bin\n",
      "        PREFIX: aaa\n",
      "    ResourceRequirement:\n",
      "      ramMin: 16000\n",
      "  stderr: std.err\n",
      "  stdout: std.out\n",
      "- class: Workflow\n",
      "  doc: Normalized burn ratio for burned area intensity assessment\n",
      "  id: nbr\n",
      "  inputs:\n",
      "    false_color_1:\n",
      "      doc: False Color RGB composite using bands S5, S3 and S2\n",
      "      label: False Color 1 (S5, S3, S2)\n",
      "      type:\n",
      "        symbols:\n",
      "        - 'Yes'\n",
      "        - 'No'\n",
      "        type: enum\n",
      "    input_reference_scatter:\n",
      "      doc: This service takes as input a Sentinel-3 SLSTR Level 2 (SL_2_LST____) product\n",
      "        on DESCENDING pass\n",
      "      label: Sentinel-3 SLSTR Level-2 (SL_2_LST____ descending pass)\n",
      "      type: Directory[]\n",
      "    tiling_level:\n",
      "      doc: Tiling level\n",
      "      label: Tiling level\n",
      "      type: string\n",
      "  label: Normalized burn ratio\n",
      "  outputs:\n",
      "  - id: wf_outputs\n",
      "    outputSource:\n",
      "    - node_1/results\n",
      "    type:\n",
      "      items: Directory\n",
      "      type: array\n",
      "  requirements:\n",
      "  - class: ScatterFeatureRequirement\n",
      "  steps:\n",
      "    node_1:\n",
      "      in:\n",
      "        inp1: input_reference_scatter\n",
      "        inp2: tiling_level\n",
      "        inp3: false_color_1\n",
      "      out:\n",
      "      - results\n",
      "      run: '#clt'\n",
      "      scatter: input_reference_scatter\n",
      "      scatterMethod: dotproduct\n",
      "cwlVersion: v1.0\n"
     ]
    }
   ],
   "source": [
    "yaml.dump(cwl,\n",
    "          sys.stdout,\n",
    "          default_flow_style=False) "
   ]
  },
  {
   "cell_type": "code",
   "execution_count": 37,
   "metadata": {},
   "outputs": [
    {
     "data": {
      "text/plain": [
       "'/workspace/repo2cli/src/module/cookiecutter-nb-blueprint/{{cookiecutter.project_slug}}/src/package/ades'"
      ]
     },
     "execution_count": 37,
     "metadata": {},
     "output_type": "execute_result"
    }
   ],
   "source": [
    "os.getcwd()"
   ]
  },
  {
   "cell_type": "code",
   "execution_count": 35,
   "metadata": {},
   "outputs": [],
   "source": [
    "def default_params(signature, scatter_on=None):\n",
    "    \n",
    "    wf = Workflow(signature)\n",
    "\n",
    "    is_scatter = wf.is_scatter()\n",
    "    \n",
    "    scatter_input = wf.get_scatter_input()\n",
    "    \n",
    "    defaults = dict()\n",
    "\n",
    "    parameters = signature['_parameters']\n",
    "    \n",
    "    for key in parameters.keys():\n",
    "\n",
    "\n",
    "        if 'min_occurs' in parameters[key].keys():\n",
    "\n",
    "            defaults[key] = parameters[key]['value']\n",
    "\n",
    "        if 'max_occurs' in parameters[key].keys():\n",
    "\n",
    "            if parameters[key]['max_occurs'] == '1':\n",
    "\n",
    "                defaults[key] = parameters[key]['value']\n",
    "\n",
    "            else:\n",
    "\n",
    "                defaults[key] = parameters[key]['value'].split(',')\n",
    "\n",
    "        else:\n",
    "            defaults[key] = parameters[key]['value']\n",
    "\n",
    "    return defaults"
   ]
  },
  {
   "cell_type": "code",
   "execution_count": 31,
   "metadata": {},
   "outputs": [
    {
     "data": {
      "text/plain": [
       "{'input_reference_scatter': ['https://catalog.terradue.com/sentinel3/search?format=json&amp;uid=S3B_SL_2_LST____20200613T070835_20200613T071135_20200613T085802_0179_040_063_2880_LN2_O_NR_004',\n",
       "  'https://catalog.terradue.com/sentinel3/search?format=json&amp;uid=S3B_SL_2_LST____20200613T070835_20200613T071135_20200613T085802_0179_040_063_2880_LN2_O_NR_004'],\n",
       " 'tiling_level': '5',\n",
       " 'false_color_1': 'Yes'}"
      ]
     },
     "execution_count": 31,
     "metadata": {},
     "output_type": "execute_result"
    }
   ],
   "source": [
    "default_params(signature)"
   ]
  },
  {
   "cell_type": "code",
   "execution_count": null,
   "metadata": {},
   "outputs": [],
   "source": []
  },
  {
   "cell_type": "code",
   "execution_count": 32,
   "metadata": {},
   "outputs": [],
   "source": [
    "wf1 = Workflow(signature)"
   ]
  },
  {
   "cell_type": "code",
   "execution_count": 33,
   "metadata": {},
   "outputs": [
    {
     "data": {
      "text/plain": [
       "True"
      ]
     },
     "execution_count": 33,
     "metadata": {},
     "output_type": "execute_result"
    }
   ],
   "source": [
    "wf1.is_scatter()"
   ]
  },
  {
   "cell_type": "code",
   "execution_count": 34,
   "metadata": {},
   "outputs": [
    {
     "data": {
      "text/plain": [
       "'input_reference_scatter'"
      ]
     },
     "execution_count": 34,
     "metadata": {},
     "output_type": "execute_result"
    }
   ],
   "source": [
    "wf1.get_scatter_input()"
   ]
  },
  {
   "cell_type": "code",
   "execution_count": null,
   "metadata": {},
   "outputs": [],
   "source": []
  },
  {
   "cell_type": "code",
   "execution_count": null,
   "metadata": {},
   "outputs": [],
   "source": []
  },
  {
   "cell_type": "code",
   "execution_count": null,
   "metadata": {},
   "outputs": [],
   "source": []
  },
  {
   "cell_type": "code",
   "execution_count": null,
   "metadata": {},
   "outputs": [],
   "source": []
  },
  {
   "cell_type": "code",
   "execution_count": null,
   "metadata": {},
   "outputs": [],
   "source": []
  },
  {
   "cell_type": "code",
   "execution_count": 21,
   "metadata": {},
   "outputs": [],
   "source": [
    "class CommandLineTool():\n",
    "    \n",
    "    def __init__(self, signature, executable, docker=None):\n",
    "        \n",
    "        self._clt_class = dict()\n",
    "        self.signature = signature\n",
    "        self.docker = docker\n",
    "        \n",
    "                \n",
    "        self._clt_class['id'] = 'clt'\n",
    "    \n",
    "        if docker is not None:\n",
    "\n",
    "            self._clt_class['hints'] = {'DockerRequirement': {'dockerPull': self.docker}}\n",
    "\n",
    "        self._clt_class['class'] = 'CommandLineTool'\n",
    "        self._clt_class['baseCommand'] = self.executable\n",
    "        self._clt_class['stdout'] = 'std.out'\n",
    "        self._clt_class['stderr'] = 'std.err'\n",
    "\n",
    "        self._clt_class['outputs'] = {'results': {'outputBinding': { 'glob': '.'},\n",
    "                                            'type': 'Directory'}} \n",
    "\n",
    "        self._clt_class['stdout'] = 'std.out'\n",
    "        self._clt_class['stderr'] = 'std.err'\n",
    "\n",
    "        env_vars = {'PATH' : self.get_path()}\n",
    "\n",
    "        if 'PREFIX' in os.environ:\n",
    "\n",
    "            env_vars['PREFIX'] = os.environ['PREFIX']\n",
    "\n",
    "\n",
    "\n",
    "        self._clt_class['requirements'] = {'ResourceRequirement': self.signature['_requirements'] if '_requirements' in self.signature.keys() else {},\n",
    "                                     'EnvVarRequirement' : {'envDef':\n",
    "                                                            env_vars}}\n",
    "\n",
    "    def set_inputs(self, inputs):\n",
    "        \n",
    "        self._clt_class['inputs'] = inputs\n",
    "\n",
    "    def set_outputs(self, outputs):\n",
    "        \n",
    "        self._clt_class['outputs'] = outputs\n",
    "        \n",
    "    def to_dict(self):\n",
    "        \n",
    "        return self._clt_class\n",
    "\n",
    "    def get_path(self):\n",
    "    \n",
    "        path = os.environ['PATH']\n",
    "\n",
    "        if ';' in path:\n",
    "\n",
    "            path = os.environ['PATH'].split(';')[1]\n",
    "\n",
    "        if 'PREFIX' in os.environ:\n",
    "\n",
    "            path = ':'.join([os.path.join(os.environ['PREFIX'], 'bin'), path])\n",
    "\n",
    "        return path"
   ]
  },
  {
   "cell_type": "code",
   "execution_count": 24,
   "metadata": {},
   "outputs": [],
   "source": [
    "clt_class = CommandLineTool(signature, executable, 'eoepca/burned-area:0.1')"
   ]
  },
  {
   "cell_type": "code",
   "execution_count": 25,
   "metadata": {},
   "outputs": [
    {
     "data": {
      "text/plain": [
       "{'id': 'clt',\n",
       " 'hints': {'DockerRequirement': {'dockerPull': 'eoepca/burned-area:0.1'}},\n",
       " 'class': 'CommandLineTool',\n",
       " 'baseCommand': 'my_exe',\n",
       " 'stdout': 'std.out',\n",
       " 'stderr': 'std.err',\n",
       " 'outputs': {'results': {'outputBinding': {'glob': '.'}, 'type': 'Directory'}},\n",
       " 'requirements': {'ResourceRequirement': {'ramMin': 16000},\n",
       "  'EnvVarRequirement': {'envDef': {'PATH': 'aaa/bin:/opt/anaconda/bin:/opt/anaconda/envs/notebook/bin:/opt/anaconda/bin:/usr/share/java/maven/bin:/opt/anaconda/bin:/opt/anaconda/condabin:/opt/anaconda/envs/notebook/bin:/opt/anaconda/bin:/usr/lib64/qt-3.3/bin:/usr/share/java/maven/bin:/usr/local/bin:/usr/bin:/usr/local/sbin:/usr/sbin:/home/fbrito/.local/bin:/home/fbrito/bin',\n",
       "    'PREFIX': 'aaa'}}}}"
      ]
     },
     "execution_count": 25,
     "metadata": {},
     "output_type": "execute_result"
    }
   ],
   "source": [
    "clt_class.to_dict()"
   ]
  },
  {
   "cell_type": "code",
   "execution_count": 139,
   "metadata": {},
   "outputs": [],
   "source": [
    "class Workflow():\n",
    "    \n",
    "    def __init__(self, signature):\n",
    "        \n",
    "        self._wf_class = dict()\n",
    "        self.signature = signature\n",
    "\n",
    "        self._wf_class['id'] = self.signature['_workflow']['id']\n",
    "        self._wf_class['label'] = self.signature['_workflow']['label']\n",
    "        self._wf_class['doc'] = self.signature['_workflow']['doc']\n",
    "        self._wf_class['class'] = 'Workflow'\n",
    "        \n",
    "        self._wf_class['outputs'] = [{'id': 'wf_outputs',\n",
    "                                      'outputSource': ['node_1/results'],\n",
    "                                      'type': {'type': 'array',\n",
    "                                         'items': 'Directory'}}]\n",
    "        \n",
    "        if self.is_scatter():\n",
    "            \n",
    "            self.scatter_param = self.get_scatter_input()\n",
    "        \n",
    "        else:\n",
    "            \n",
    "            self.scatter_param = None\n",
    "            \n",
    "        self._wf_class['inputs'] = None\n",
    "\n",
    "    def get_scatter_input(self):\n",
    "        \n",
    "        scatter_input = None\n",
    "        \n",
    "        for index, key in enumerate(list(self.signature['_parameters'].keys())):\n",
    "            \n",
    "            if 'scatter' in self.signature['_parameters'][key].keys():\n",
    "            \n",
    "                scatter_input = key\n",
    "        \n",
    "                break\n",
    "            \n",
    "        return scatter_input\n",
    "        \n",
    "    def is_scatter(self):\n",
    "        \n",
    "        scatter = False\n",
    "        \n",
    "        for index, key in enumerate(list(self.signature['_parameters'].keys())):\n",
    "            \n",
    "            if 'scatter' in self.signature['_parameters'][key].keys():\n",
    "            \n",
    "                scatter = True\n",
    "        \n",
    "                break\n",
    "            \n",
    "        return scatter\n",
    "\n",
    "    def set_inputs(self, inputs):\n",
    "        \n",
    "        self._wf_class['inputs'] = inputs\n",
    "\n",
    "    def set_outputs(self, outputs):\n",
    "        \n",
    "        self._wf_class['outputs'] = outputs\n",
    "        \n",
    "    def set_steps(self, step_inputs):\n",
    "        \n",
    "        if self._wf_class['inputs'] is None:\n",
    "            raise ValueError\n",
    "        \n",
    "        if self.is_scatter():\n",
    "            \n",
    "            self._wf_class['requirements'] = [{'class': 'ScatterFeatureRequirement'}]\n",
    "\n",
    "            self._wf_class['steps'] = {'node_1': {'scatter': self.get_scatter_input(),\n",
    "                                            'scatterMethod': 'dotproduct',\n",
    "                                            'in': step_inputs,\n",
    "                                            'out': ['results'],\n",
    "                                            'run': '#clt'\n",
    "                                      }\n",
    "                            }\n",
    "\n",
    "        \n",
    "    def to_dict(self):\n",
    "        \n",
    "        return self._wf_class"
   ]
  },
  {
   "cell_type": "code",
   "execution_count": 140,
   "metadata": {},
   "outputs": [],
   "source": [
    "class AnInput():\n",
    "\n",
    "    def __init__(self, signature, key, index):\n",
    "        \n",
    "        self._input = dict()\n",
    "        \n",
    "        self._signature = signature\n",
    "        self._key = key\n",
    "        self._index = index\n",
    "        \n",
    "        self.input_signature = self._signature['_parameters'][self._key]\n",
    "        \n",
    "        self.input_type = self.get_param_type()\n",
    "        \n",
    "    def get_param_type(self):\n",
    "    \n",
    "        param_type = None\n",
    "\n",
    "        if 'type' in self.input_signature:\n",
    "\n",
    "            return self.input_signature['type']\n",
    "\n",
    "        if not all(elem in list(self.input_signature) for elem in ['min_occurs', 'max_occurs']):\n",
    "\n",
    "            # if not set, add the key and its default value\n",
    "\n",
    "            if not 'min_occurs' in self.input_signature.keys():\n",
    "\n",
    "                self.input_signature['min_occurs'] = 1\n",
    "\n",
    "            if not 'max_occurs' in self.input_signature.keys():\n",
    "\n",
    "                self.input_signature['max_occurs'] = 2\n",
    "\n",
    "        # cast to int\n",
    "        self.input_signature['min_occurs'] = int(self.input_signature['min_occurs']) \n",
    "        self.input_signature['max_occurs'] = int(self.input_signature['max_occurs'])\n",
    "\n",
    "        if (self.input_signature['min_occurs'] == 0) & (self.input_signature['max_occurs'] == 1):\n",
    "\n",
    "            param_type = 'string?'\n",
    "\n",
    "        if (self.input_signature['min_occurs'] == 0) & (self.input_signature['max_occurs'] > 1):\n",
    "\n",
    "            param_type = 'string[]?'\n",
    "\n",
    "        if (self.input_signature['min_occurs'] == 1) & (self.input_signature['max_occurs'] == 1):\n",
    "\n",
    "            param_type = 'string'\n",
    "\n",
    "        if (self.input_signature['min_occurs'] == 1) & (self.input_signature['max_occurs'] > 1):\n",
    "\n",
    "            param_type = 'string[]'\n",
    "\n",
    "        if (self.input_signature['min_occurs'] > 1) & (self.input_signature['max_occurs'] > 1):\n",
    "\n",
    "            param_type = 'string[]'\n",
    "\n",
    "        return param_type \n",
    "    \n",
    "    def parse_input(self):\n",
    "        \n",
    "        wf_input = None\n",
    "        clt_input = None\n",
    "        \n",
    "        if self.input_type == 'enum' and 'symbols' in self.input_signature.keys():\n",
    "                \n",
    "            wf_input = {'type': {'type': self.input_type, \n",
    "                                         'symbols': self._signature['_parameters'][self._key]['symbols']},\n",
    "                                'label': self._signature['_parameters'][self._key]['label'],\n",
    "                                'doc': self._signature['_parameters'][self._key]['doc']}\n",
    "            \n",
    "        else: \n",
    "        \n",
    "            if 'scatter' in self._signature['_parameters'][self._key].keys():\n",
    "\n",
    "                if self._signature['_parameters'][self._key]['scatter'] == 'True':\n",
    "                    scatter_on = self._key\n",
    "                    scatter_input = 'inp{}'.format(self._index+1)\n",
    "\n",
    "                    # the Workflow gets the type set in the notebook transformed as an array\n",
    "                    wf_input = {'type': '{}[]'.format(self._signature['_parameters'][self._key]['type']),\n",
    "                                        'label': self._signature['_parameters'][self._key]['label'],\n",
    "                                        'doc': self._signature['_parameters'][self._key]['doc']\n",
    "                               }\n",
    "            else:\n",
    "\n",
    "                wf_input = {'type': self.input_type,\n",
    "                                    'label': self._signature['_parameters'][self._key]['label'],\n",
    "                                    'doc': self._signature['_parameters'][self._key]['doc']\n",
    "                           }\n",
    "    \n",
    "        clt_input = {'type': self.input_type,\n",
    "                     'inputBinding': {'position': int(self._index+1),\n",
    "                                      'prefix': '--{}'.format(self._key)}\n",
    "                    }\n",
    "    \n",
    "     \n",
    "        return wf_input, clt_input\n",
    "    \n",
    "    def get_wf_input(self):\n",
    "        \n",
    "        return self.parse_input()[0]\n",
    "    \n",
    "    def get_clt_input(self):\n",
    "        \n",
    "        return self.parse_input()[1]"
   ]
  },
  {
   "cell_type": "code",
   "execution_count": null,
   "metadata": {},
   "outputs": [],
   "source": []
  },
  {
   "cell_type": "code",
   "execution_count": 141,
   "metadata": {},
   "outputs": [],
   "source": [
    "clt_inputs = dict()\n",
    "wf_inputs = dict()\n",
    "step_inputs = dict()\n",
    "\n",
    "for index, key in enumerate(list(signature['_parameters'].keys())):\n",
    "\n",
    "    an_input = AnInput(signature, key, index)\n",
    "    \n",
    "    clt_inputs['inp{}'.format(index+1)] = an_input.get_clt_input()\n",
    "    wf_inputs[key] = an_input.get_wf_input()\n",
    "    step_inputs['inp{}'.format(index+1)] = key"
   ]
  },
  {
   "cell_type": "code",
   "execution_count": null,
   "metadata": {},
   "outputs": [],
   "source": []
  },
  {
   "cell_type": "code",
   "execution_count": 142,
   "metadata": {},
   "outputs": [
    {
     "data": {
      "text/plain": [
       "{'inp1': {'type': 'Directory',\n",
       "  'inputBinding': {'position': 1, 'prefix': '--input_reference_scatter'}},\n",
       " 'inp2': {'type': 'string',\n",
       "  'inputBinding': {'position': 2, 'prefix': '--tiling_level'}},\n",
       " 'inp3': {'type': 'enum',\n",
       "  'inputBinding': {'position': 3, 'prefix': '--false_color_1'}}}"
      ]
     },
     "execution_count": 142,
     "metadata": {},
     "output_type": "execute_result"
    }
   ],
   "source": [
    "clt_inputs"
   ]
  },
  {
   "cell_type": "code",
   "execution_count": 143,
   "metadata": {},
   "outputs": [
    {
     "data": {
      "text/plain": [
       "{'input_reference_scatter': {'type': 'Directory[]',\n",
       "  'label': 'Sentinel-3 SLSTR Level-2 (SL_2_LST____ descending pass)',\n",
       "  'doc': 'This service takes as input a Sentinel-3 SLSTR Level 2 (SL_2_LST____) product on DESCENDING pass'},\n",
       " 'tiling_level': {'type': 'string',\n",
       "  'label': 'Tiling level',\n",
       "  'doc': 'Tiling level'},\n",
       " 'false_color_1': {'type': {'type': 'enum', 'symbols': ['Yes', 'No']},\n",
       "  'label': 'False Color 1 (S5, S3, S2)',\n",
       "  'doc': 'False Color RGB composite using bands S5, S3 and S2'}}"
      ]
     },
     "execution_count": 143,
     "metadata": {},
     "output_type": "execute_result"
    }
   ],
   "source": [
    "wf_inputs"
   ]
  },
  {
   "cell_type": "code",
   "execution_count": 144,
   "metadata": {},
   "outputs": [
    {
     "data": {
      "text/plain": [
       "{'inp1': 'input_reference_scatter',\n",
       " 'inp2': 'tiling_level',\n",
       " 'inp3': 'false_color_1'}"
      ]
     },
     "execution_count": 144,
     "metadata": {},
     "output_type": "execute_result"
    }
   ],
   "source": [
    "step_inputs"
   ]
  },
  {
   "cell_type": "code",
   "execution_count": 145,
   "metadata": {},
   "outputs": [],
   "source": [
    "wf = Workflow(signature)\n",
    "\n",
    "wf.set_inputs(wf_inputs)\n",
    "wf.set_steps(step_inputs)"
   ]
  },
  {
   "cell_type": "code",
   "execution_count": 146,
   "metadata": {},
   "outputs": [
    {
     "data": {
      "text/plain": [
       "True"
      ]
     },
     "execution_count": 146,
     "metadata": {},
     "output_type": "execute_result"
    }
   ],
   "source": [
    "wf.is_scatter()"
   ]
  },
  {
   "cell_type": "code",
   "execution_count": 147,
   "metadata": {},
   "outputs": [
    {
     "data": {
      "text/plain": [
       "'input_reference_scatter'"
      ]
     },
     "execution_count": 147,
     "metadata": {},
     "output_type": "execute_result"
    }
   ],
   "source": [
    "wf.get_scatter_input()"
   ]
  },
  {
   "cell_type": "code",
   "execution_count": 148,
   "metadata": {},
   "outputs": [
    {
     "data": {
      "text/plain": [
       "{'id': 'nbr',\n",
       " 'label': 'Normalized burn ratio',\n",
       " 'doc': 'Normalized burn ratio for burned area intensity assessment',\n",
       " 'class': 'Workflow',\n",
       " 'outputs': [{'id': 'wf_outputs',\n",
       "   'outputSource': ['node_1/results'],\n",
       "   'type': {'type': 'array', 'items': 'Directory'}}],\n",
       " 'inputs': {'input_reference_scatter': {'type': 'Directory[]',\n",
       "   'label': 'Sentinel-3 SLSTR Level-2 (SL_2_LST____ descending pass)',\n",
       "   'doc': 'This service takes as input a Sentinel-3 SLSTR Level 2 (SL_2_LST____) product on DESCENDING pass'},\n",
       "  'tiling_level': {'type': 'string',\n",
       "   'label': 'Tiling level',\n",
       "   'doc': 'Tiling level'},\n",
       "  'false_color_1': {'type': {'type': 'enum', 'symbols': ['Yes', 'No']},\n",
       "   'label': 'False Color 1 (S5, S3, S2)',\n",
       "   'doc': 'False Color RGB composite using bands S5, S3 and S2'}},\n",
       " 'requirements': [{'class': 'ScatterFeatureRequirement'}],\n",
       " 'steps': {'node_1': {'scatter': 'input_reference_scatter',\n",
       "   'scatterMethod': 'dotproduct',\n",
       "   'in': {'inp1': 'input_reference_scatter',\n",
       "    'inp2': 'tiling_level',\n",
       "    'inp3': 'false_color_1'},\n",
       "   'out': ['results'],\n",
       "   'run': '#clt'}}}"
      ]
     },
     "execution_count": 148,
     "metadata": {},
     "output_type": "execute_result"
    }
   ],
   "source": [
    "wf.to_dict()"
   ]
  },
  {
   "cell_type": "code",
   "execution_count": 149,
   "metadata": {},
   "outputs": [],
   "source": [
    "clt = CommandLineTool(signature, executable, docker=None)"
   ]
  },
  {
   "cell_type": "code",
   "execution_count": 150,
   "metadata": {},
   "outputs": [
    {
     "data": {
      "text/plain": [
       "{'id': 'clt',\n",
       " 'class': 'CommandLineTool',\n",
       " 'baseCommand': 'my_exe',\n",
       " 'stdout': 'std.out',\n",
       " 'stderr': 'std.err',\n",
       " 'outputs': {'results': {'outputBinding': {'glob': '.'}, 'type': 'Directory'}},\n",
       " 'requirements': {'ResourceRequirement': {'ramMin': 16000},\n",
       "  'EnvVarRequirement': {'envDef': {'PATH': 'aaa/bin:/opt/anaconda/bin:/opt/anaconda/envs/notebook/bin:/opt/anaconda/bin:/usr/share/java/maven/bin:/opt/anaconda/bin:/opt/anaconda/condabin:/opt/anaconda/envs/notebook/bin:/opt/anaconda/bin:/usr/lib64/qt-3.3/bin:/usr/share/java/maven/bin:/usr/local/bin:/usr/bin:/usr/local/sbin:/usr/sbin:/home/fbrito/.local/bin:/home/fbrito/bin',\n",
       "    'PREFIX': 'aaa'}}},\n",
       " 'inputs': {'inp1': {'type': 'Directory',\n",
       "   'inputBinding': {'position': 1, 'prefix': '--input_reference_scatter'}},\n",
       "  'inp2': {'type': 'string',\n",
       "   'inputBinding': {'position': 2, 'prefix': '--tiling_level'}},\n",
       "  'inp3': {'type': 'enum',\n",
       "   'inputBinding': {'position': 3, 'prefix': '--false_color_1'}}}}"
      ]
     },
     "execution_count": 150,
     "metadata": {},
     "output_type": "execute_result"
    }
   ],
   "source": [
    "clt.set_inputs(clt_inputs)\n",
    "\n",
    "clt.to_dict()"
   ]
  },
  {
   "cell_type": "code",
   "execution_count": 151,
   "metadata": {},
   "outputs": [],
   "source": [
    "cwl = dict()\n",
    "\n",
    "cwl['cwlVersion'] = 'v1.0'\n",
    "\n",
    "cwl['$graph'] = [clt.to_dict(), wf.to_dict()]\n"
   ]
  },
  {
   "cell_type": "code",
   "execution_count": 152,
   "metadata": {},
   "outputs": [
    {
     "name": "stdout",
     "output_type": "stream",
     "text": [
      "{'cwlVersion': 'v1.0', '$graph': [{'id': 'clt', 'class': 'CommandLineTool', 'baseCommand': 'my_exe', 'stdout': 'std.out', 'stderr': 'std.err', 'outputs': {'results': {'outputBinding': {'glob': '.'}, 'type': 'Directory'}}, 'requirements': {'ResourceRequirement': {'ramMin': 16000}, 'EnvVarRequirement': {'envDef': {'PATH': 'aaa/bin:/opt/anaconda/bin:/opt/anaconda/envs/notebook/bin:/opt/anaconda/bin:/usr/share/java/maven/bin:/opt/anaconda/bin:/opt/anaconda/condabin:/opt/anaconda/envs/notebook/bin:/opt/anaconda/bin:/usr/lib64/qt-3.3/bin:/usr/share/java/maven/bin:/usr/local/bin:/usr/bin:/usr/local/sbin:/usr/sbin:/home/fbrito/.local/bin:/home/fbrito/bin', 'PREFIX': 'aaa'}}}, 'inputs': {'inp1': {'type': 'Directory', 'inputBinding': {'position': 1, 'prefix': '--input_reference_scatter'}}, 'inp2': {'type': 'string', 'inputBinding': {'position': 2, 'prefix': '--tiling_level'}}, 'inp3': {'type': 'enum', 'inputBinding': {'position': 3, 'prefix': '--false_color_1'}}}}, {'id': 'nbr', 'label': 'Normalized burn ratio', 'doc': 'Normalized burn ratio for burned area intensity assessment', 'class': 'Workflow', 'outputs': [{'id': 'wf_outputs', 'outputSource': ['node_1/results'], 'type': {'type': 'array', 'items': 'Directory'}}], 'inputs': {'input_reference_scatter': {'type': 'Directory[]', 'label': 'Sentinel-3 SLSTR Level-2 (SL_2_LST____ descending pass)', 'doc': 'This service takes as input a Sentinel-3 SLSTR Level 2 (SL_2_LST____) product on DESCENDING pass'}, 'tiling_level': {'type': 'string', 'label': 'Tiling level', 'doc': 'Tiling level'}, 'false_color_1': {'type': {'type': 'enum', 'symbols': ['Yes', 'No']}, 'label': 'False Color 1 (S5, S3, S2)', 'doc': 'False Color RGB composite using bands S5, S3 and S2'}}, 'requirements': [{'class': 'ScatterFeatureRequirement'}], 'steps': {'node_1': {'scatter': 'input_reference_scatter', 'scatterMethod': 'dotproduct', 'in': {'inp1': 'input_reference_scatter', 'inp2': 'tiling_level', 'inp3': 'false_color_1'}, 'out': ['results'], 'run': '#clt'}}}]}\n"
     ]
    }
   ],
   "source": [
    "print(cwl)"
   ]
  },
  {
   "cell_type": "code",
   "execution_count": 153,
   "metadata": {},
   "outputs": [
    {
     "name": "stdout",
     "output_type": "stream",
     "text": [
      "$graph:\n",
      "- baseCommand: my_exe\n",
      "  class: CommandLineTool\n",
      "  id: clt\n",
      "  inputs:\n",
      "    inp1:\n",
      "      inputBinding:\n",
      "        position: 1\n",
      "        prefix: --input_reference_scatter\n",
      "      type: Directory\n",
      "    inp2:\n",
      "      inputBinding:\n",
      "        position: 2\n",
      "        prefix: --tiling_level\n",
      "      type: string\n",
      "    inp3:\n",
      "      inputBinding:\n",
      "        position: 3\n",
      "        prefix: --false_color_1\n",
      "      type: enum\n",
      "  outputs:\n",
      "    results:\n",
      "      outputBinding:\n",
      "        glob: .\n",
      "      type: Directory\n",
      "  requirements:\n",
      "    EnvVarRequirement:\n",
      "      envDef:\n",
      "        PATH: aaa/bin:/opt/anaconda/bin:/opt/anaconda/envs/notebook/bin:/opt/anaconda/bin:/usr/share/java/maven/bin:/opt/anaconda/bin:/opt/anaconda/condabin:/opt/anaconda/envs/notebook/bin:/opt/anaconda/bin:/usr/lib64/qt-3.3/bin:/usr/share/java/maven/bin:/usr/local/bin:/usr/bin:/usr/local/sbin:/usr/sbin:/home/fbrito/.local/bin:/home/fbrito/bin\n",
      "        PREFIX: aaa\n",
      "    ResourceRequirement:\n",
      "      ramMin: 16000\n",
      "  stderr: std.err\n",
      "  stdout: std.out\n",
      "- class: Workflow\n",
      "  doc: Normalized burn ratio for burned area intensity assessment\n",
      "  id: nbr\n",
      "  inputs:\n",
      "    false_color_1:\n",
      "      doc: False Color RGB composite using bands S5, S3 and S2\n",
      "      label: False Color 1 (S5, S3, S2)\n",
      "      type:\n",
      "        symbols:\n",
      "        - 'Yes'\n",
      "        - 'No'\n",
      "        type: enum\n",
      "    input_reference_scatter:\n",
      "      doc: This service takes as input a Sentinel-3 SLSTR Level 2 (SL_2_LST____) product\n",
      "        on DESCENDING pass\n",
      "      label: Sentinel-3 SLSTR Level-2 (SL_2_LST____ descending pass)\n",
      "      type: Directory[]\n",
      "    tiling_level:\n",
      "      doc: Tiling level\n",
      "      label: Tiling level\n",
      "      type: string\n",
      "  label: Normalized burn ratio\n",
      "  outputs:\n",
      "  - id: wf_outputs\n",
      "    outputSource:\n",
      "    - node_1/results\n",
      "    type:\n",
      "      items: Directory\n",
      "      type: array\n",
      "  requirements:\n",
      "  - class: ScatterFeatureRequirement\n",
      "  steps:\n",
      "    node_1:\n",
      "      in:\n",
      "        inp1: input_reference_scatter\n",
      "        inp2: tiling_level\n",
      "        inp3: false_color_1\n",
      "      out:\n",
      "      - results\n",
      "      run: '#clt'\n",
      "      scatter: input_reference_scatter\n",
      "      scatterMethod: dotproduct\n",
      "cwlVersion: v1.0\n"
     ]
    }
   ],
   "source": [
    "yaml.dump(cwl, \n",
    "                  sys.stdout, \n",
    "                  default_flow_style=False)\n"
   ]
  },
  {
   "cell_type": "code",
   "execution_count": null,
   "metadata": {},
   "outputs": [],
   "source": []
  },
  {
   "cell_type": "code",
   "execution_count": 65,
   "metadata": {},
   "outputs": [
    {
     "data": {
      "text/plain": [
       "({'type': {'type': 'enum', 'symbols': ['Yes', 'No']},\n",
       "  'label': 'False Color 1 (S5, S3, S2)',\n",
       "  'doc': 'False Color RGB composite using bands S5, S3 and S2'},\n",
       " {'type': 'enum',\n",
       "  'inputBinding': {'position': 3, 'prefix': '--false_color_1'}})"
      ]
     },
     "execution_count": 65,
     "metadata": {},
     "output_type": "execute_result"
    }
   ],
   "source": [
    "an_input.get_input()"
   ]
  },
  {
   "cell_type": "code",
   "execution_count": 47,
   "metadata": {},
   "outputs": [
    {
     "name": "stdout",
     "output_type": "stream",
     "text": [
      "0 input_reference_scatter Directory\n",
      "1 tiling_level string\n",
      "2 false_color_1 enum\n"
     ]
    }
   ],
   "source": [
    "clt_inputs = dict()\n",
    "wf_inputs = dict()\n",
    "\n",
    "for index, key in enumerate(list(signature['_parameters'].keys())):\n",
    "    \n",
    "    input_type = get_param_type(signature['_parameters'][key])\n",
    "    \n",
    "    print(index, key, input_type)\n",
    "    \n",
    "    # enum\n",
    "    \n",
    "    if input_type == 'enum' and 'symbols' in signature['_parameters'][key].keys():\n",
    "                \n",
    "            wf_inputs[key] = {'type': {'type': input_type, \n",
    "                                         'symbols': signature['_parameters'][key]['symbols']},\n",
    "                                'label': signature['_parameters'][key]['label'],\n",
    "                                'doc': signature['_parameters'][key]['doc']}\n",
    "    \n",
    "    else: \n",
    "        \n",
    "        if 'scatter' in signature['_parameters'][key].keys():\n",
    "                    \n",
    "            if signature['_parameters'][key]['scatter'] == 'True':\n",
    "                scatter_on = key\n",
    "                scatter_input = 'inp{}'.format(index+1)\n",
    "\n",
    "                # the Workflow gets the type set in the notebook transformed as an array\n",
    "                wf_inputs[key] = {'type': '{}[]'.format(signature['_parameters'][key]['type']),\n",
    "                                    'label': signature['_parameters'][key]['label'],\n",
    "                                    'doc': signature['_parameters'][key]['doc']}\n",
    "        else:\n",
    "\n",
    "            wf_inputs[key] = {'type': input_type,\n",
    "                                'label': signature['_parameters'][key]['label'],\n",
    "                                'doc': signature['_parameters'][key]['doc']}\n",
    "    \n",
    "    clt_inputs['inp{}'.format(index+1)] = {'type': input_type,\n",
    "                                                       'inputBinding': {'position': int(index+1),\n",
    "                                                                        'prefix': '--{}'.format(key)}\n",
    "                                                      }"
   ]
  },
  {
   "cell_type": "code",
   "execution_count": 48,
   "metadata": {},
   "outputs": [
    {
     "data": {
      "text/plain": [
       "{'input_reference_scatter': {'type': 'Directory[]',\n",
       "  'label': 'Sentinel-3 SLSTR Level-2 (SL_2_LST____ descending pass)',\n",
       "  'doc': 'This service takes as input a Sentinel-3 SLSTR Level 2 (SL_2_LST____) product on DESCENDING pass'},\n",
       " 'tiling_level': {'type': 'string',\n",
       "  'label': 'Tiling level',\n",
       "  'doc': 'Tiling level'},\n",
       " 'false_color_1': {'type': {'type': 'enum', 'symbols': ['Yes', 'No']},\n",
       "  'label': 'False Color 1 (S5, S3, S2)',\n",
       "  'doc': 'False Color RGB composite using bands S5, S3 and S2'}}"
      ]
     },
     "execution_count": 48,
     "metadata": {},
     "output_type": "execute_result"
    }
   ],
   "source": [
    "wf_inputs"
   ]
  },
  {
   "cell_type": "code",
   "execution_count": 49,
   "metadata": {},
   "outputs": [
    {
     "data": {
      "text/plain": [
       "{'inp1': {'type': 'Directory',\n",
       "  'inputBinding': {'position': 1, 'prefix': '--input_reference_scatter'}},\n",
       " 'inp2': {'type': 'string',\n",
       "  'inputBinding': {'position': 2, 'prefix': '--tiling_level'}},\n",
       " 'inp3': {'type': 'enum',\n",
       "  'inputBinding': {'position': 3, 'prefix': '--false_color_1'}}}"
      ]
     },
     "execution_count": 49,
     "metadata": {},
     "output_type": "execute_result"
    }
   ],
   "source": [
    "clt_inputs"
   ]
  },
  {
   "cell_type": "code",
   "execution_count": null,
   "metadata": {},
   "outputs": [],
   "source": []
  },
  {
   "cell_type": "code",
   "execution_count": null,
   "metadata": {},
   "outputs": [],
   "source": []
  },
  {
   "cell_type": "code",
   "execution_count": null,
   "metadata": {},
   "outputs": [],
   "source": []
  },
  {
   "cell_type": "code",
   "execution_count": null,
   "metadata": {},
   "outputs": [],
   "source": []
  },
  {
   "cell_type": "code",
   "execution_count": null,
   "metadata": {},
   "outputs": [],
   "source": []
  },
  {
   "cell_type": "code",
   "execution_count": null,
   "metadata": {},
   "outputs": [],
   "source": []
  },
  {
   "cell_type": "code",
   "execution_count": 12,
   "metadata": {},
   "outputs": [
    {
     "name": "stdout",
     "output_type": "stream",
     "text": [
      "$graph:\n",
      "- baseCommand: my_exe\n",
      "  class: CommandLineTool\n",
      "  id: clt\n",
      "  inputs:\n",
      "    inp1:\n",
      "      inputBinding:\n",
      "        position: 1\n",
      "        prefix: --input_reference_scatter\n",
      "      type: Directory\n",
      "    inp2:\n",
      "      inputBinding:\n",
      "        position: 2\n",
      "        prefix: --tiling_level\n",
      "      type: string\n",
      "    inp3:\n",
      "      inputBinding:\n",
      "        position: 3\n",
      "        prefix: --false_color_1\n",
      "      type: enum\n",
      "  outputs:\n",
      "    results:\n",
      "      outputBinding:\n",
      "        glob: .\n",
      "      type: Any\n",
      "  requirements:\n",
      "    EnvVarRequirement:\n",
      "      envDef:\n",
      "        PATH: aaa/bin:/opt/anaconda/envs/env_s3/conda-otb/bin:/opt/anaconda/envs/env_s3/snap/bin:/opt/anaconda/envs/notebook/bin:/opt/anaconda/envs/env_s3/bin:/usr/share/java/maven/bin:/opt/anaconda/bin:/opt/anaconda/condabin:/opt/anaconda/envs/notebook/bin:/opt/anaconda/bin:/usr/lib64/qt-3.3/bin:/usr/share/java/maven/bin:/usr/local/bin:/usr/bin:/usr/local/sbin:/usr/sbin:/home/fbrito/.local/bin:/home/fbrito/bin\n",
      "        PREFIX: aaa\n",
      "    ResourceRequirement:\n",
      "      ramMin: 16000\n",
      "  stderr: std.err\n",
      "  stdout: std.out\n",
      "- class: Workflow\n",
      "  doc: Normalized burn ratio for burned area intensity assessment\n",
      "  id: nbr\n",
      "  inputs:\n",
      "    false_color_1:\n",
      "      doc: False Color RGB composite using bands S5, S3 and S2\n",
      "      label: False Color 1 (S5, S3, S2)\n",
      "      type:\n",
      "        symbols:\n",
      "        - 'Yes'\n",
      "        - 'No'\n",
      "        type: enum\n",
      "    input_reference_scatter:\n",
      "      doc: This service takes as input a Sentinel-3 SLSTR Level 2 (SL_2_LST____) product\n",
      "        on DESCENDING pass\n",
      "      label: Sentinel-3 SLSTR Level-2 (SL_2_LST____ descending pass)\n",
      "      stac:collection: post_event\n",
      "      type: Directory[]\n",
      "    tiling_level:\n",
      "      doc: Tiling level\n",
      "      label: Tiling level\n",
      "      type: string\n",
      "  label: Normalized burn ratio\n",
      "  outputs:\n",
      "  - id: wf_outputs\n",
      "    outputSource:\n",
      "    - node_1/results\n",
      "    type:\n",
      "      items: Directory\n",
      "      type: array\n",
      "  requirements:\n",
      "  - class: ScatterFeatureRequirement\n",
      "  steps:\n",
      "    node_1:\n",
      "      in:\n",
      "        inp1: input_reference_scatter\n",
      "        inp2: tiling_level\n",
      "        inp3: false_color_1\n",
      "      out:\n",
      "      - results\n",
      "      run: '#clt'\n",
      "      scatter: inp1\n",
      "      scatterMethod: dotproduct\n",
      "$namespaces:\n",
      "  stac: http://www.me.net/stac/cwl/extension\n",
      "cwlVersion: v1.0\n"
     ]
    }
   ],
   "source": [
    "yaml.dump(cwl(signature, 'my_exe'),\n",
    "          sys.stdout,\n",
    "          default_flow_style=False) "
   ]
  },
  {
   "cell_type": "code",
   "execution_count": 13,
   "metadata": {},
   "outputs": [],
   "source": [
    "cwl_file = 'workflow.cwl'"
   ]
  },
  {
   "cell_type": "code",
   "execution_count": 14,
   "metadata": {},
   "outputs": [],
   "source": [
    "with open(cwl_file, 'w') as file:\n",
    "    yaml.dump(cwl(signature, 'my_exe'), file)"
   ]
  },
  {
   "cell_type": "code",
   "execution_count": null,
   "metadata": {},
   "outputs": [],
   "source": []
  }
 ],
 "metadata": {
  "kernelspec": {
   "display_name": "env_burned_area",
   "language": "python",
   "name": "env_burned_area"
  },
  "language_info": {
   "codemirror_mode": {
    "name": "ipython",
    "version": 3
   },
   "file_extension": ".py",
   "mimetype": "text/x-python",
   "name": "python",
   "nbconvert_exporter": "python",
   "pygments_lexer": "ipython3",
   "version": "3.7.8"
  }
 },
 "nbformat": 4,
 "nbformat_minor": 4
}
