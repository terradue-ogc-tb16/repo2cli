{
 "cells": [
  {
   "cell_type": "code",
   "execution_count": 3,
   "metadata": {},
   "outputs": [],
   "source": [
    "service = dict([('title', 'Normalized burn ratio'),\n",
    "                ('abstract', 'Normalized burn ratio for burned area intensity assessment'),\n",
    "                ('identifier', 'nbr')])"
   ]
  },
  {
   "cell_type": "code",
   "execution_count": 8,
   "metadata": {},
   "outputs": [],
   "source": [
    "requirements = dict([('ramMin', 16000)])"
   ]
  },
  {
   "cell_type": "code",
   "execution_count": 12,
   "metadata": {},
   "outputs": [],
   "source": [
    "input_reference_scatter =  dict([('abstract', 'This service takes as input a Sentinel-3 SLSTR Level 2 (SL_2_LST____) product on DESCENDING pass'),\n",
    "                                ('identifier', 'input_reference_scatter'),\n",
    "                                ('max_occurs', '16'),\n",
    "                                ('title', 'Sentinel-3 SLSTR Level-2 (SL_2_LST____ descending pass)'),\n",
    "                                ('stac:collection', 'post_event'),\n",
    "                                ('stac:href', '/workspace/slstr/catalog.json'),\n",
    "                                ('value', 'https://catalog.terradue.com/sentinel3/search?format=json&amp;uid=S3B_SL_2_LST____20200613T070835_20200613T071135_20200613T085802_0179_040_063_2880_LN2_O_NR_004,https://catalog.terradue.com/sentinel3/search?format=json&amp;uid=S3B_SL_2_LST____20200613T070835_20200613T071135_20200613T085802_0179_040_063_2880_LN2_O_NR_004'),\n",
    "                                ('type', 'Directory[]'), \n",
    "                                ('scatter', 'True')])"
   ]
  },
  {
   "cell_type": "code",
   "execution_count": 11,
   "metadata": {},
   "outputs": [],
   "source": [
    "tiling_level = dict([('abstract', 'Tiling level'),\n",
    "                            ('identifier', 'tiling_level'),\n",
    "                            ('min_occurs', '0'),\n",
    "                            ('max_occurs', '1'),\n",
    "                            ('title', 'Tiling level'),\n",
    "                            ('value', '5')])"
   ]
  },
  {
   "cell_type": "code",
   "execution_count": null,
   "metadata": {},
   "outputs": [],
   "source": []
  }
 ],
 "metadata": {
  "kernelspec": {
   "display_name": "Python 3",
   "language": "python",
   "name": "python3"
  },
  "language_info": {
   "codemirror_mode": {
    "name": "ipython",
    "version": 3
   },
   "file_extension": ".py",
   "mimetype": "text/x-python",
   "name": "python",
   "nbconvert_exporter": "python",
   "pygments_lexer": "ipython3",
   "version": "3.7.7"
  }
 },
 "nbformat": 4,
 "nbformat_minor": 4
}
