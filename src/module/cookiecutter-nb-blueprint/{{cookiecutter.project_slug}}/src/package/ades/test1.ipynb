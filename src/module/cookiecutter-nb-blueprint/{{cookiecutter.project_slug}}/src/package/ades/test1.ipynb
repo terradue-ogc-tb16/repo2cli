{
 "cells": [
  {
   "cell_type": "code",
   "execution_count": 14,
   "metadata": {},
   "outputs": [],
   "source": [
    "workflow = dict([('label', 'Normalized burn ratio'),\n",
    "                ('doc', 'Normalized burn ratio for burned area intensity assessment'),\n",
    "                ('id', 'nbr')])"
   ]
  },
  {
   "cell_type": "code",
   "execution_count": 15,
   "metadata": {},
   "outputs": [],
   "source": [
    "requirements = dict([('ramMin', 16000)])"
   ]
  },
  {
   "cell_type": "code",
   "execution_count": 16,
   "metadata": {},
   "outputs": [],
   "source": [
    "input_reference_scatter =  dict([('doc', 'This service takes as input a Sentinel-3 SLSTR Level 2 (SL_2_LST____) product on DESCENDING pass'),\n",
    "                                ('id', 'input_reference_scatter'),\n",
    "                                ('max_occurs', '16'),\n",
    "                                ('label', 'Sentinel-3 SLSTR Level-2 (SL_2_LST____ descending pass)'),\n",
    "                                ('stac:collection', 'post_event'),\n",
    "                                ('stac:href', '/workspace/slstr/catalog.json'),\n",
    "                                ('value', 'https://catalog.terradue.com/sentinel3/search?format=json&amp;uid=S3B_SL_2_LST____20200613T070835_20200613T071135_20200613T085802_0179_040_063_2880_LN2_O_NR_004,https://catalog.terradue.com/sentinel3/search?format=json&amp;uid=S3B_SL_2_LST____20200613T070835_20200613T071135_20200613T085802_0179_040_063_2880_LN2_O_NR_004'),\n",
    "                                ('type', 'Directory'), \n",
    "                                ('scatter', 'True')])"
   ]
  },
  {
   "cell_type": "code",
   "execution_count": 17,
   "metadata": {},
   "outputs": [],
   "source": [
    "tiling_level = dict([('id', 'tiling_level'),\n",
    "                     ('label', 'Tiling level'),\n",
    "                     ('doc', 'Tiling level'),\n",
    "                     ('type', 'string'),\n",
    "                     ('value', '5')])"
   ]
  },
  {
   "cell_type": "code",
   "execution_count": 18,
   "metadata": {},
   "outputs": [],
   "source": [
    "false_color_1 = dict([('id', 'false_color_1'),\n",
    "                      ('label', 'False Color 1 (S5, S3, S2)'),\n",
    "                      ('doc', 'False Color RGB composite using bands S5, S3 and S2'),\n",
    "                      ('value', 'Yes'),\n",
    "                      ('symbols', ['Yes', 'No']),\n",
    "                      ('type', 'enum')])\n"
   ]
  },
  {
   "cell_type": "code",
   "execution_count": null,
   "metadata": {},
   "outputs": [],
   "source": []
  }
 ],
 "metadata": {
  "kernelspec": {
   "display_name": "Python 3",
   "language": "python",
   "name": "python3"
  },
  "language_info": {
   "codemirror_mode": {
    "name": "ipython",
    "version": 3
   },
   "file_extension": ".py",
   "mimetype": "text/x-python",
   "name": "python",
   "nbconvert_exporter": "python",
   "pygments_lexer": "ipython3",
   "version": "3.7.7"
  }
 },
 "nbformat": 4,
 "nbformat_minor": 4
}
