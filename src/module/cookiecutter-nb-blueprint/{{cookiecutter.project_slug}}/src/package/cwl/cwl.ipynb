{
 "cells": [
  {
   "cell_type": "code",
   "execution_count": 6,
   "metadata": {},
   "outputs": [],
   "source": [
    "import os\n",
    "import yaml\n",
    "import sys\n",
    "sys.path.append('.')\n",
    "from nbsignature import *\n",
    "from cwl import *\n"
   ]
  },
  {
   "cell_type": "code",
   "execution_count": 7,
   "metadata": {},
   "outputs": [
    {
     "name": "stdout",
     "output_type": "stream",
     "text": [
      "The autoreload extension is already loaded. To reload it, use:\n",
      "  %reload_ext autoreload\n"
     ]
    }
   ],
   "source": [
    "%load_ext autoreload\n",
    "%autoreload 2"
   ]
  },
  {
   "cell_type": "code",
   "execution_count": 8,
   "metadata": {},
   "outputs": [],
   "source": [
    "os.environ['PREFIX'] = 'aaa'"
   ]
  },
  {
   "cell_type": "code",
   "execution_count": 9,
   "metadata": {},
   "outputs": [],
   "source": [
    "service = dict([('title', 'Normalized burn ratio'),\n",
    "                ('abstract', 'Normalized burn ratio for burned area intensity assessment'),\n",
    "                ('identifier', 'nbr')])"
   ]
  },
  {
   "cell_type": "markdown",
   "metadata": {},
   "source": [
    "### Fan-out (scatter) on STAC catalog"
   ]
  },
  {
   "cell_type": "code",
   "execution_count": 10,
   "metadata": {},
   "outputs": [],
   "source": [
    "input_reference_scatter =  {'abstract': 'This service takes as input a Sentinel-3 SLSTR Level 2 (SL_2_LST____) product on DESCENDING pass',\n",
    "                                'identifier': 'input_reference',\n",
    "                                'max_occurs': '16',\n",
    "                                'title': 'Sentinel-3 SLSTR Level-2 (SL_2_LST____ descending pass)',\n",
    "                                'stac:collection': 'post_event',\n",
    "                                'stac:href': '/workspace/slstr/catalog.json',\n",
    "                                'value': 'https://catalog.terradue.com/sentinel3/search?format=json&amp;uid=S3B_SL_2_LST____20200613T070835_20200613T071135_20200613T085802_0179_040_063_2880_LN2_O_NR_004,https://catalog.terradue.com/sentinel3/search?format=json&amp;uid=S3B_SL_2_LST____20200613T070835_20200613T071135_20200613T085802_0179_040_063_2880_LN2_O_NR_004',\n",
    "                                'type': 'Directory[]', \n",
    "                                'scatter': 'True'}"
   ]
  },
  {
   "cell_type": "markdown",
   "metadata": {},
   "source": [
    "### Fan-in on STAC catalog"
   ]
  },
  {
   "cell_type": "markdown",
   "metadata": {},
   "source": [
    "Set `scatter` to `False`"
   ]
  },
  {
   "cell_type": "code",
   "execution_count": 11,
   "metadata": {},
   "outputs": [],
   "source": [
    "input_reference =  {'abstract': 'This service takes as input a Sentinel-3 SLSTR Level 2 (SL_2_LST____) product on DESCENDING pass',\n",
    "                                'identifier': 'input_reference',\n",
    "                                'max_occurs': '16',\n",
    "                                'title': 'Sentinel-3 SLSTR Level-2 (SL_2_LST____ descending pass)',\n",
    "                                'stac:collection': 'post_event',\n",
    "                                'stac:href': '/workspace/slstr/catalog.json',\n",
    "                                'value': 'https://catalog.terradue.com/sentinel3/search?format=json&amp;uid=S3B_SL_2_LST____20200613T070835_20200613T071135_20200613T085802_0179_040_063_2880_LN2_O_NR_004,https://catalog.terradue.com/sentinel3/search?format=json&amp;uid=S3B_SL_2_LST____20200613T070835_20200613T071135_20200613T085802_0179_040_063_2880_LN2_O_NR_004',\n",
    "                                'type': 'Directory[]', \n",
    "                                'scatter': 'False'}"
   ]
  },
  {
   "cell_type": "markdown",
   "metadata": {},
   "source": [
    "Don't use the `scatter` key"
   ]
  },
  {
   "cell_type": "code",
   "execution_count": 12,
   "metadata": {},
   "outputs": [],
   "source": [
    "input_reference =  {'abstract': 'This service takes as input a Sentinel-3 SLSTR Level 2 (SL_2_LST____) product on DESCENDING pass',\n",
    "                                'identifier': 'input_reference',\n",
    "                                'max_occurs': '16',\n",
    "                                'title': 'Sentinel-3 SLSTR Level-2 (SL_2_LST____ descending pass)',\n",
    "                                'stac:collection': 'post_event',\n",
    "                                'stac:href': '/workspace/slstr/catalog.json',\n",
    "                                'value': 'https://catalog.terradue.com/sentinel3/search?format=json&amp;uid=S3B_SL_2_LST____20200613T070835_20200613T071135_20200613T085802_0179_040_063_2880_LN2_O_NR_004,https://catalog.terradue.com/sentinel3/search?format=json&amp;uid=S3B_SL_2_LST____20200613T070835_20200613T071135_20200613T085802_0179_040_063_2880_LN2_O_NR_004',\n",
    "                                'type': 'Directory[]'}"
   ]
  },
  {
   "cell_type": "markdown",
   "metadata": {},
   "source": [
    "### Fan-in on staged data"
   ]
  },
  {
   "cell_type": "code",
   "execution_count": 13,
   "metadata": {},
   "outputs": [],
   "source": [
    "input_reference =  {'abstract': 'This service takes as input a Sentinel-3 SLSTR Level 2 (SL_2_LST____) product on DESCENDING pass',\n",
    "                                'identifier': 'input_reference',\n",
    "                                'max_occurs': '16',\n",
    "                                'title': 'Sentinel-3 SLSTR Level-2 (SL_2_LST____ descending pass)',\n",
    "                                'stac:collection': 'post_event',\n",
    "                                'stac:href': '/workspace/slstr/catalog.json',\n",
    "                                'value': '/workspace/data/S3B_SL_2_LST____20200613T070835_20200613T071135_20200613T085802_0179_040_063_2880_LN2_O_NR_004,/workspace/data/S3B_SL_2_LST____20200613T070835_20200613T071135_20200613T085802_0179_040_063_2880_LN2_O_NR_004',\n",
    "                                'type': 'Directory[]'}"
   ]
  },
  {
   "cell_type": "markdown",
   "metadata": {},
   "source": [
    "### Fan-out (scatter) on staged data"
   ]
  },
  {
   "cell_type": "code",
   "execution_count": 14,
   "metadata": {},
   "outputs": [],
   "source": [
    "input_reference =  {'abstract': 'This service takes as input a Sentinel-3 SLSTR Level 2 (SL_2_LST____) product on DESCENDING pass',\n",
    "                    'identifier': 'input_reference',\n",
    "                                'max_occurs': '16',\n",
    "                                'title': 'Sentinel-3 SLSTR Level-2 (SL_2_LST____ descending pass)',\n",
    "                                'value': '/workspace/data/S3B_SL_2_LST____20200613T070835_20200613T071135_20200613T085802_0179_040_063_2880_LN2_O_NR_004,/workspace/data/S3B_SL_2_LST____20200613T070835_20200613T071135_20200613T085802_0179_040_063_2880_LN2_O_NR_004',\n",
    "                                'type': 'Directory[]',\n",
    "                                'scatter': 'True'}"
   ]
  },
  {
   "cell_type": "markdown",
   "metadata": {},
   "source": [
    "### Fan-out on references"
   ]
  },
  {
   "cell_type": "code",
   "execution_count": 15,
   "metadata": {},
   "outputs": [],
   "source": [
    "input_reference =  {'abstract': 'This service takes as input a Sentinel-3 SLSTR Level 2 (SL_2_LST____) product on DESCENDING pass',\n",
    "                                'identifier': 'input_reference',\n",
    "                                'max_occurs': '16',\n",
    "                                'title': 'Sentinel-3 SLSTR Level-2 (SL_2_LST____ descending pass)',\n",
    "                                'value': 'https://catalog.terradue.com/sentinel3/search?format=json&amp;uid=S3B_SL_2_LST____20200613T070835_20200613T071135_20200613T085802_0179_040_063_2880_LN2_O_NR_004,https://catalog.terradue.com/sentinel3/search?format=json&amp;uid=S3B_SL_2_LST____20200613T070835_20200613T071135_20200613T085802_0179_040_063_2880_LN2_O_NR_004',\n",
    "                                'type': 'String[]',\n",
    "                   'scatter': 'True'}"
   ]
  },
  {
   "cell_type": "markdown",
   "metadata": {},
   "source": [
    "### Fan-in on references"
   ]
  },
  {
   "cell_type": "code",
   "execution_count": 16,
   "metadata": {},
   "outputs": [],
   "source": [
    "input_reference =  {'abstract': 'This service takes as input a Sentinel-3 SLSTR Level 2 (SL_2_LST____) product on DESCENDING pass',\n",
    "                                'identifier': 'input_reference',\n",
    "                                'max_occurs': '16',\n",
    "                                'title': 'Sentinel-3 SLSTR Level-2 (SL_2_LST____ descending pass)',\n",
    "                                'value': 'https://catalog.terradue.com/sentinel3/search?format=json&amp;uid=S3B_SL_2_LST____20200613T070835_20200613T071135_20200613T085802_0179_040_063_2880_LN2_O_NR_004,https://catalog.terradue.com/sentinel3/search?format=json&amp;uid=S3B_SL_2_LST____20200613T070835_20200613T071135_20200613T085802_0179_040_063_2880_LN2_O_NR_004',\n",
    "                                'type': 'String[]'}"
   ]
  },
  {
   "cell_type": "markdown",
   "metadata": {},
   "source": [
    "### Single mandatory input parameter"
   ]
  },
  {
   "cell_type": "code",
   "execution_count": 17,
   "metadata": {},
   "outputs": [],
   "source": [
    "tiling_level = {'abstract': 'Tiling level',\n",
    "                            'identifier': 'tiling_level',\n",
    "                            'min_occurs': '1',\n",
    "                            'max_occurs': '1',\n",
    "                            'title': 'Tiling level',\n",
    "                            'value': '5'}"
   ]
  },
  {
   "cell_type": "markdown",
   "metadata": {},
   "source": [
    "### Single optional input parameter"
   ]
  },
  {
   "cell_type": "code",
   "execution_count": 18,
   "metadata": {},
   "outputs": [],
   "source": [
    "tiling_level = {'abstract': 'Tiling level',\n",
    "                            'identifier': 'tiling_level',\n",
    "                            'min_occurs': '0',\n",
    "                            'max_occurs': '1',\n",
    "                            'title': 'Tiling level',\n",
    "                            'value': '5'}"
   ]
  },
  {
   "cell_type": "code",
   "execution_count": null,
   "metadata": {},
   "outputs": [],
   "source": []
  },
  {
   "cell_type": "markdown",
   "metadata": {},
   "source": [
    "### Runtime requirements"
   ]
  },
  {
   "cell_type": "code",
   "execution_count": 19,
   "metadata": {},
   "outputs": [],
   "source": [
    "requirements = {'ramMin': 16000}"
   ]
  },
  {
   "cell_type": "code",
   "execution_count": null,
   "metadata": {},
   "outputs": [],
   "source": []
  },
  {
   "cell_type": "code",
   "execution_count": 20,
   "metadata": {},
   "outputs": [],
   "source": [
    "signature = {'_service': service,\n",
    "             '_requirements': requirements,\n",
    "             '_parameters': {'input_reference1': input_reference_scatter,\n",
    "                             'tiling_level': tiling_level}\n",
    "             }"
   ]
  },
  {
   "cell_type": "code",
   "execution_count": 21,
   "metadata": {},
   "outputs": [
    {
     "data": {
      "text/plain": [
       "{'_parameters': {'input_reference1': {'abstract': 'This service takes as input a Sentinel-3 SLSTR Level 2 (SL_2_LST____) product on DESCENDING pass',\n",
       "   'identifier': 'input_reference',\n",
       "   'max_occurs': '16',\n",
       "   'scatter': 'True',\n",
       "   'stac:collection': 'post_event',\n",
       "   'stac:href': '/workspace/slstr/catalog.json',\n",
       "   'title': 'Sentinel-3 SLSTR Level-2 (SL_2_LST____ descending pass)',\n",
       "   'type': 'Directory[]',\n",
       "   'value': 'https://catalog.terradue.com/sentinel3/search?format=json&amp;uid=S3B_SL_2_LST____20200613T070835_20200613T071135_20200613T085802_0179_040_063_2880_LN2_O_NR_004,https://catalog.terradue.com/sentinel3/search?format=json&amp;uid=S3B_SL_2_LST____20200613T070835_20200613T071135_20200613T085802_0179_040_063_2880_LN2_O_NR_004'},\n",
       "  'tiling_level': {'abstract': 'Tiling level',\n",
       "   'identifier': 'tiling_level',\n",
       "   'max_occurs': '1',\n",
       "   'min_occurs': '0',\n",
       "   'title': 'Tiling level',\n",
       "   'value': '5'}},\n",
       " '_requirements': {'ramMin': 16000},\n",
       " '_service': {'abstract': 'Normalized burn ratio for burned area intensity assessment',\n",
       "  'identifier': 'nbr',\n",
       "  'title': 'Normalized burn ratio'}}"
      ]
     },
     "execution_count": 21,
     "metadata": {},
     "output_type": "execute_result"
    }
   ],
   "source": [
    "signature"
   ]
  },
  {
   "cell_type": "code",
   "execution_count": 64,
   "metadata": {},
   "outputs": [
    {
     "name": "stdout",
     "output_type": "stream",
     "text": [
      "$graph:\n",
      "- baseCommand: my_exe\n",
      "  class: CommandLineTool\n",
      "  id: clt\n",
      "  inputs:\n",
      "    inp1:\n",
      "      inputBinding:\n",
      "        position: 1\n",
      "        prefix: --input_reference1\n",
      "      type: Directory\n",
      "    inp2:\n",
      "      inputBinding:\n",
      "        position: 2\n",
      "        prefix: --tiling_level\n",
      "      type: string\n",
      "  outputs:\n",
      "    results:\n",
      "      outputBinding:\n",
      "        glob: .\n",
      "      type: Any\n",
      "  requirements:\n",
      "    EnvVarRequirement:\n",
      "      envDef:\n",
      "        PATH: aaa/bin:/opt/anaconda/envs/notebook/bin:/opt/anaconda/envs/env-instac/bin:/usr/share/java/maven/bin:/opt/anaconda/bin:/opt/anaconda/condabin:/opt/anaconda/envs/notebook/bin:/opt/anaconda/bin:/usr/lib64/qt-3.3/bin:/usr/share/java/maven/bin:/usr/local/bin:/usr/bin:/usr/local/sbin:/usr/sbin:/home/fbrito/.local/bin:/home/fbrito/bin\n",
      "        PREFIX: aaa\n",
      "    ResourceRequirement:\n",
      "      ramMin: 16000\n",
      "  stderr: std.err\n",
      "  stdout: std.out\n",
      "- class: Workflow\n",
      "  doc: Normalized burn ratio for burned area intensity assessment\n",
      "  id: nbr\n",
      "  inputs:\n",
      "    input_reference1:\n",
      "      doc: This service takes as input a Sentinel-3 SLSTR Level 2 (SL_2_LST____) product\n",
      "        on DESCENDING pass\n",
      "      label: Sentinel-3 SLSTR Level-2 (SL_2_LST____ descending pass)\n",
      "      stac:collection: post_event\n",
      "      type: Directory[]\n",
      "    tiling_level:\n",
      "      doc: Tiling level\n",
      "      label: Tiling level\n",
      "      type: string\n",
      "  label: Normalized burn ratio\n",
      "  outputs:\n",
      "  - id: wf_outputs\n",
      "    outputSource:\n",
      "    - node_1/results\n",
      "    type:\n",
      "      items: Directory\n",
      "      type: array\n",
      "  requirements:\n",
      "  - class: ScatterFeatureRequirement\n",
      "  steps:\n",
      "    node_1:\n",
      "      in:\n",
      "        inp1: input_reference1\n",
      "        inp2: tiling_level\n",
      "      out:\n",
      "      - results\n",
      "      run: '#clt'\n",
      "      scatter: inp1\n",
      "      scatterMethod: dotproduct\n",
      "$namespaces:\n",
      "  stac: http://www.me.net/stac/cwl/extension\n",
      "cwlVersion: v1.0\n"
     ]
    }
   ],
   "source": [
    "yaml.dump(cwl(signature, 'my_exe'),\n",
    "          sys.stdout,\n",
    "          default_flow_style=False) "
   ]
  },
  {
   "cell_type": "code",
   "execution_count": 13,
   "metadata": {},
   "outputs": [
    {
     "name": "stdout",
     "output_type": "stream",
     "text": [
      "input_reference:\n",
      "  class: Directory\n",
      "  path: /workspace/slstr\n",
      "tiling_level:\n",
      "- '5'\n"
     ]
    }
   ],
   "source": [
    "yaml.dump(default_params(signature),\n",
    "          sys.stdout,\n",
    "          default_flow_style=False) "
   ]
  },
  {
   "cell_type": "code",
   "execution_count": null,
   "metadata": {},
   "outputs": [],
   "source": []
  }
 ],
 "metadata": {
  "kernelspec": {
   "display_name": "env_s3",
   "language": "python",
   "name": "env_s3"
  },
  "language_info": {
   "codemirror_mode": {
    "name": "ipython",
    "version": 3
   },
   "file_extension": ".py",
   "mimetype": "text/x-python",
   "name": "python",
   "nbconvert_exporter": "python",
   "pygments_lexer": "ipython3",
   "version": "3.5.6"
  }
 },
 "nbformat": 4,
 "nbformat_minor": 4
}
